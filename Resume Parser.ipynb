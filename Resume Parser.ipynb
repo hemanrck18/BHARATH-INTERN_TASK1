{
 "cells": [
  {
   "cell_type": "code",
   "execution_count": null,
   "id": "11302d81",
   "metadata": {},
   "outputs": [],
   "source": []
  },
  {
   "cell_type": "code",
   "execution_count": 1,
   "id": "ee4908ab",
   "metadata": {},
   "outputs": [],
   "source": [
    "def calculate_score(job_requirements, candidate_skills):\n",
    "    \n",
    "    match_count = sum(1 for word in job_requirements if word in candidate_skills)\n",
    "    return match_count"
   ]
  },
  {
   "cell_type": "code",
   "execution_count": 2,
   "id": "8a634f76",
   "metadata": {},
   "outputs": [],
   "source": [
    "def find_best_candidate(job_requirements, candidate_profiles):\n",
    "    best_candidate = None\n",
    "    best_score = 0\n",
    "\n",
    "    for candidate in candidate_profiles:\n",
    "        candidate_skills = candidate['skills']\n",
    "        candidate_experience = candidate['experience']\n",
    "        communication_skills = candidate['communication_skills']\n",
    "        \n",
    "        score = calculate_score(job_requirements, candidate_skills)\n",
    "        \n",
    "        # Adjust score based on experience\n",
    "        score += candidate_experience\n",
    "        \n",
    "        # Adjust score based on communication skills\n",
    "        if communication_skills == 'excellent':\n",
    "            score += 2\n",
    "        elif communication_skills == 'good':\n",
    "            score += 1\n",
    "        \n",
    "        # Check if the current candidate has a higher score than the previous best candidate\n",
    "        if score > best_score:\n",
    "            best_candidate = candidate\n",
    "            best_score = score\n",
    "\n",
    "    return best_candidate\n",
    "#printing best candidate for the job"
   ]
  },
  {
   "cell_type": "code",
   "execution_count": 3,
   "id": "46c5ea7a",
   "metadata": {},
   "outputs": [],
   "source": [
    "def print_candidate(candidate):\n",
    "    if candidate:\n",
    "        print(\"Best candidate for the job:\")\n",
    "        print(f\"Name: {candidate['name']}\")\n",
    "        print(f\"Skills: {', '.join(candidate['skills'])}\")\n",
    "        print(f\"Experience: {candidate['experience']} years\")\n",
    "        print(f\"Communication Skills: {candidate['communication_skills']}\")\n",
    "    else:\n",
    "        print(\"No suitable candidates found.\")"
   ]
  },
  {
   "cell_type": "code",
   "execution_count": 4,
   "id": "2734ab4a",
   "metadata": {},
   "outputs": [],
   "source": [
    "def get_job_requirements():\n",
    "    job_requirements = []\n",
    "    while True:\n",
    "        requirement = input(\"Enter a job requirement (or 'done' to finish): \")\n",
    "        if requirement.lower() == 'done':\n",
    "            break\n",
    "        job_requirements.append(requirement.lower())\n",
    "    return job_requirements"
   ]
  },
  {
   "cell_type": "code",
   "execution_count": 5,
   "id": "af50b0fd",
   "metadata": {},
   "outputs": [],
   "source": [
    "def main():\n",
    "    # Get job requirements from the user\n",
    "    print(\"Enter the job requirements:\")\n",
    "    job_requirements = get_job_requirements()\n",
    "\n",
    "    # Define candidate profiles\n",
    "    candidate_profiles = [\n",
    "        {\n",
    "            'name': 'Vivek',\n",
    "            'skills': ['GUI using Pyqt module', 'data handling', 'java'],\n",
    "            'experience': 1,\n",
    "            'communication_skills': 'excellent'\n",
    "        },\n",
    "        {\n",
    "            'name': 'Elvis',\n",
    "            'skills': ['python', 'machine learning', 'data visualization','java'],\n",
    "            'experience': 5,\n",
    "            'communication_skills': 'good'\n",
    "        },\n",
    "        {\n",
    "            'name': 'Mayank',\n",
    "            'skills': ['C++', 'machine learning', 'communication skills'],\n",
    "            'experience': 2,\n",
    "            'communication_skills': 'excellent'\n",
    "        },\n",
    "        {\n",
    "            'name': 'Suresh',\n",
    "            'skills': ['Html', 'deep learning', 'communication skills'],\n",
    "            'experience': 4,\n",
    "            'communication_skills': 'better'\n",
    "        },\n",
    "        {\n",
    "            'name': 'Dravid',\n",
    "            'skills': ['python', 'data visualization', 'communication skills','java'],\n",
    "            'experience': 6,\n",
    "            'communication_skills': 'better'\n",
    "        },\n",
    "         {\n",
    "            'name': 'Shekhar',\n",
    "            'skills': ['SQL', 'data handling', 'Html','java'],\n",
    "            'experience': 5,\n",
    "            'communication_skills': 'good'\n",
    "        },\n",
    "         {\n",
    "            'name': 'Soumyta',\n",
    "            'skills': ['python', 'data visualization', 'communication skills','deep learning'],\n",
    "            'experience': 5,\n",
    "            'communication_skills': 'excellent'\n",
    "        },\n",
    "         {\n",
    "            'name': 'Varun',\n",
    "            'skills': ['GUI using Pyqt module', 'data analysis', 'communication skills','C'],\n",
    "            'experience': 3,\n",
    "            'communication_skills': 'better'\n",
    "        },\n",
    "         {\n",
    "            'name': 'Mahesh',\n",
    "            'skills': ['python', 'data analysis', 'C','C++'],\n",
    "            'experience': 6,\n",
    "            'communication_skills': 'good'\n",
    "        },\n",
    "         {\n",
    "            'name': 'Vishakha',\n",
    "            'skills': ['Html', 'data analysis', 'communication skills','C++'],\n",
    "            'experience': 2,\n",
    "            'communication_skills': 'better'\n",
    "        }\n",
    "        \n",
    "    ]\n",
    "\n",
    "    # Find the best candidate\n",
    "    best_candidate = find_best_candidate(job_requirements, candidate_profiles)\n",
    "\n",
    "    # Output the best candidate\n",
    "    print_candidate(best_candidate)"
   ]
  },
  {
   "cell_type": "code",
   "execution_count": null,
   "id": "8211ec4f",
   "metadata": {},
   "outputs": [
    {
     "name": "stdout",
     "output_type": "stream",
     "text": [
      "Enter the job requirements:\n",
      "Best candidate for the job:\n",
      "Name: Elvis\n",
      "Skills: python, machine learning, data visualization, java\n",
      "Experience: 5 years\n",
      "Communication Skills: good\n"
     ]
    }
   ],
   "source": [
    "if __name__ == \"__main__\":\n",
    "    main()"
   ]
  },
  {
   "cell_type": "code",
   "execution_count": null,
   "id": "dee622e9",
   "metadata": {},
   "outputs": [],
   "source": []
  }
 ],
 "metadata": {
  "kernelspec": {
   "display_name": "Python 3 (ipykernel)",
   "language": "python",
   "name": "python3"
  },
  "language_info": {
   "codemirror_mode": {
    "name": "ipython",
    "version": 3
   },
   "file_extension": ".py",
   "mimetype": "text/x-python",
   "name": "python",
   "nbconvert_exporter": "python",
   "pygments_lexer": "ipython3",
   "version": "3.11.3"
  }
 },
 "nbformat": 4,
 "nbformat_minor": 5
}
